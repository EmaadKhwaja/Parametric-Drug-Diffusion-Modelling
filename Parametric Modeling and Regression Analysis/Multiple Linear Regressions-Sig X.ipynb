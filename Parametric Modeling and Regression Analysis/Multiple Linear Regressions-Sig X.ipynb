{
 "cells": [
  {
   "cell_type": "code",
   "execution_count": 32,
   "metadata": {},
   "outputs": [],
   "source": [
    "import pandas as pd\n",
    "from sklearn import linear_model\n",
    "import statsmodels.api as sm\n",
    "import matplotlib as plt\n",
    "import numpy as np\n",
    "pd.set_option('display.max_columns', 100)\n",
    "pd.set_option('display.max_rows', 100)\n",
    "\n",
    "\n",
    "\n",
    "ogdf= pd.read_csv(\"/Users/emaad/Google Drive/Research/Graduate School/Ting Xu Rotation/Model Fits/Params Table - Copy Sig X.csv\")\n",
    "df=ogdf.dropna()"
   ]
  },
  {
   "cell_type": "code",
   "execution_count": 36,
   "metadata": {},
   "outputs": [],
   "source": [
    "for elem in df['Tumor'].unique():\n",
    "    df[str(elem)] = df['Tumor'] == elem\n",
    "    \n",
    "for elem in df['Model'].unique():\n",
    "    df[str(elem)] = df['Model'] == elem\n",
    "    \n",
    "for elem in df['Particle'].unique():\n",
    "    df[str(elem)] = df['Particle'] == elem\n",
    "    \n",
    "for elem in df['Particle Type'].unique():\n",
    "    df[str(elem)] = df['Particle Type'] == elem\n",
    "    \n",
    "df*= 1"
   ]
  },
  {
   "cell_type": "code",
   "execution_count": 46,
   "metadata": {},
   "outputs": [],
   "source": [
    "X=df[list(set(df.keys().tolist()) - set(ogdf.keys().tolist()))]\n",
    "Y=df[['Permeability (P)']]"
   ]
  },
  {
   "cell_type": "code",
   "execution_count": 48,
   "metadata": {},
   "outputs": [
    {
     "name": "stdout",
     "output_type": "stream",
     "text": [
      "                            OLS Regression Results                            \n",
      "==============================================================================\n",
      "Dep. Variable:       Permeability (P)   R-squared:                       0.984\n",
      "Model:                            OLS   Adj. R-squared:                  0.969\n",
      "Method:                 Least Squares   F-statistic:                     63.25\n",
      "Date:                Thu, 14 Nov 2019   Prob (F-statistic):           2.81e-13\n",
      "Time:                        20:48:28   Log-Likelihood:                -157.41\n",
      "No. Observations:                  39   AIC:                             354.8\n",
      "Df Residuals:                      19   BIC:                             388.1\n",
      "Df Model:                          19                                         \n",
      "Covariance Type:            nonrobust                                         \n",
      "====================================================================================\n",
      "                       coef    std err          t      P>|t|      [0.025      0.975]\n",
      "------------------------------------------------------------------------------------\n",
      "const               55.5380     13.999      3.967      0.001      26.239      84.837\n",
      "Carbon             -11.2441      7.992     -1.407      0.176     -27.971       5.483\n",
      "PEI                -18.3937     21.843     -0.842      0.410     -64.112      27.325\n",
      "PLGA                -1.8407     21.843     -0.084      0.934     -47.559      43.878\n",
      "Orthotopic         -14.5188     23.907     -0.607      0.551     -64.557      35.519\n",
      "Albumin            -10.1972      7.163     -1.424      0.171     -25.190       4.795\n",
      "Gold               -12.6126     13.812     -0.913      0.373     -41.521      16.296\n",
      "Liposome            -3.5636     17.988     -0.198      0.845     -41.213      34.086\n",
      "Pluronic Micelle    23.6168     10.413      2.268      0.035       1.823      45.411\n",
      "PCL Micelle         55.2151     18.620      2.965      0.008      16.243      94.187\n",
      "Dorsal             101.3888      5.527     18.345      0.000      89.821     112.957\n",
      "Polysaccharide     101.3888      5.527     18.345      0.000      89.821     112.957\n",
      "Pancreas           -14.0903     27.458     -0.513      0.614     -71.560      43.379\n",
      "Breast             -14.4801     17.053     -0.849      0.406     -50.172      21.212\n",
      "PAMAM              -25.8167     24.529     -1.052      0.306     -77.157      25.524\n",
      "SubQ               -20.0878     13.227     -1.519      0.145     -47.773       7.597\n",
      "Nanosphere          -3.8073     16.672     -0.228      0.822     -38.702      31.087\n",
      "3HM                 -6.8662     15.110     -0.454      0.655     -38.492      24.759\n",
      "Lung               -14.9841     23.222     -0.645      0.526     -63.587      33.619\n",
      "Nanocage            -4.9461     16.672     -0.297      0.770     -39.841      29.949\n",
      "Polymer              3.5365      6.651      0.532      0.601     -10.383      17.456\n",
      "NK012              -29.2443     32.359     -0.904      0.377     -96.972      38.483\n",
      "Dextran            101.3888      5.527     18.345      0.000      89.821     112.957\n",
      "GBM                -17.3473     34.843     -0.498      0.624     -90.275      55.581\n",
      "Colon               -8.5656     24.037     -0.356      0.726     -58.876      41.744\n",
      "Micelle             -4.9034     25.723     -0.191      0.851     -58.742      48.935\n",
      "Nanodisk            -3.8592     16.672     -0.231      0.819     -38.754      31.036\n",
      "CNT                -11.2441      7.992     -1.407      0.176     -27.971       5.483\n",
      "Protein            -10.1972      7.163     -1.424      0.171     -25.190       4.795\n",
      "Skin               125.0055      8.774     14.248      0.000     106.642     143.369\n",
      "Subq               -11.2441      7.992     -1.407      0.176     -27.971       5.483\n",
      "Lipid              -15.3333      8.024     -1.911      0.071     -32.129       1.462\n",
      "==============================================================================\n",
      "Omnibus:                       21.184   Durbin-Watson:                   2.726\n",
      "Prob(Omnibus):                  0.000   Jarque-Bera (JB):              194.422\n",
      "Skew:                           0.245   Prob(JB):                     6.05e-43\n",
      "Kurtosis:                      13.927   Cond. No.                     5.65e+16\n",
      "==============================================================================\n",
      "\n",
      "Warnings:\n",
      "[1] Standard Errors assume that the covariance matrix of the errors is correctly specified.\n",
      "[2] The smallest eigenvalue is 2.91e-32. This might indicate that there are\n",
      "strong multicollinearity problems or that the design matrix is singular.\n"
     ]
    },
    {
     "name": "stderr",
     "output_type": "stream",
     "text": [
      "/opt/anaconda3/lib/python3.7/site-packages/numpy/core/fromnumeric.py:2495: FutureWarning: Method .ptp is deprecated and will be removed in a future version. Use numpy.ptp instead.\n",
      "  return ptp(axis=axis, out=out, **kwargs)\n"
     ]
    }
   ],
   "source": [
    "regr = linear_model.LinearRegression()\n",
    "regr.fit(X, Y)\n",
    "\n",
    "# with statsmodels\n",
    "X = sm.add_constant(X) # adding a constant\n",
    " \n",
    "model = sm.OLS(Y, X).fit()\n",
    "predictions = model.predict(X) \n",
    "ogdf[['Predicted P']]=predictions.to_frame()\n",
    " \n",
    "print_model = model.summary()\n",
    "print(print_model)"
   ]
  },
  {
   "cell_type": "code",
   "execution_count": 22,
   "metadata": {},
   "outputs": [
    {
     "name": "stdout",
     "output_type": "stream",
     "text": [
      "                             OLS Regression Results                            \n",
      "===============================================================================\n",
      "Dep. Variable:     Convection Term (X)   R-squared:                       0.947\n",
      "Model:                             OLS   Adj. R-squared:                  0.880\n",
      "Method:                  Least Squares   F-statistic:                     14.33\n",
      "Date:                 Thu, 14 Nov 2019   Prob (F-statistic):           4.59e-07\n",
      "Time:                         20:00:42   Log-Likelihood:                -169.04\n",
      "No. Observations:                   39   AIC:                             382.1\n",
      "Df Residuals:                       17   BIC:                             418.7\n",
      "Df Model:                           21                                         \n",
      "Covariance Type:             nonrobust                                         \n",
      "====================================================================================\n",
      "                       coef    std err          t      P>|t|      [0.025      0.975]\n",
      "------------------------------------------------------------------------------------\n",
      "const              -26.0486     21.038     -1.238      0.232     -70.435      18.338\n",
      "Size (nm)            0.0327      0.198      0.165      0.871      -0.385       0.451\n",
      "Lung               -15.9462     34.877     -0.457      0.653     -89.530      57.638\n",
      "Pancreas           -17.7421     40.792     -0.435      0.669    -103.807      68.322\n",
      "Colon              -23.3612     34.540     -0.676      0.508     -96.235      49.513\n",
      "Breast             -17.2534     25.587     -0.674      0.509     -71.237      36.731\n",
      "GBM                -13.4959     50.373     -0.268      0.792    -119.773      92.781\n",
      "Skin                61.7504     12.878      4.795      0.000      34.579      88.921\n",
      "SubQ                31.5996     18.857      1.676      0.112      -8.185      71.384\n",
      "Orthotopic          33.0012     34.081      0.968      0.346     -38.904     104.906\n",
      "Dorsal            -104.2800      7.894    -13.209      0.000    -120.936     -87.624\n",
      "Subq                13.6306     14.419      0.945      0.358     -16.791      44.052\n",
      "Liposome             3.0324     28.157      0.108      0.915     -56.373      62.438\n",
      "Albumin              5.3092     11.930      0.445      0.662     -19.860      30.479\n",
      "3HM                 -1.6372     24.234     -0.068      0.947     -52.766      49.491\n",
      "Dextran           -104.2800      7.894    -13.209      0.000    -120.936     -87.624\n",
      "Micelle              4.4725     38.508      0.116      0.909     -76.773      85.718\n",
      "Nanosphere           3.5286     23.838      0.148      0.884     -46.765      53.822\n",
      "Nanodisk             1.6307     24.274      0.067      0.947     -49.582      52.844\n",
      "Nanocage             4.8099     23.998      0.200      0.844     -45.822      55.442\n",
      "PAMAM              -41.1477     39.018     -1.055      0.306    -123.468      41.173\n",
      "PEI                -46.5257     31.440     -1.480      0.157    -112.858      19.807\n",
      "Pluronic Micelle   166.0304     15.071     11.017      0.000     134.234     197.827\n",
      "PCL Micelle         13.4443     26.656      0.504      0.620     -42.794      69.682\n",
      "PLGA               -19.1271     44.614     -0.429      0.674    -113.254      75.000\n",
      "NK012              -29.2193     47.080     -0.621      0.543    -128.550      70.111\n",
      "CNT                 13.6306     14.419      0.945      0.358     -16.791      44.052\n",
      "Lipid                5.8677     11.984      0.490      0.631     -19.416      31.152\n",
      "Protein              5.3092     11.930      0.445      0.662     -19.860      30.479\n",
      "Polysaccharide    -104.2800      7.894    -13.209      0.000    -120.936     -87.624\n",
      "Gold                 9.9691     19.723      0.505      0.620     -31.642      51.580\n",
      "Polymer             43.4548     10.550      4.119      0.001      21.196      65.713\n",
      "Carbon              13.6306     14.419      0.945      0.358     -16.791      44.052\n",
      "Active              -1.7204     17.079     -0.101      0.921     -37.753      34.312\n",
      "==============================================================================\n",
      "Omnibus:                       25.067   Durbin-Watson:                   3.022\n",
      "Prob(Omnibus):                  0.000   Jarque-Bera (JB):              396.892\n",
      "Skew:                           0.002   Prob(JB):                     6.55e-87\n",
      "Kurtosis:                      18.628   Cond. No.                     6.20e+17\n",
      "==============================================================================\n",
      "\n",
      "Warnings:\n",
      "[1] Standard Errors assume that the covariance matrix of the errors is correctly specified.\n",
      "[2] The smallest eigenvalue is 1.23e-30. This might indicate that there are\n",
      "strong multicollinearity problems or that the design matrix is singular.\n"
     ]
    },
    {
     "name": "stderr",
     "output_type": "stream",
     "text": [
      "/opt/anaconda3/lib/python3.7/site-packages/numpy/core/fromnumeric.py:2495: FutureWarning: Method .ptp is deprecated and will be removed in a future version. Use numpy.ptp instead.\n",
      "  return ptp(axis=axis, out=out, **kwargs)\n"
     ]
    }
   ],
   "source": [
    "Y=df[['Convection Term (X)']]\n",
    "regr = linear_model.LinearRegression()\n",
    "regr.fit(X, Y)\n",
    "# with statsmodels\n",
    "X = sm.add_constant(X) # adding a constant\n",
    " \n",
    "model = sm.OLS(Y, X).fit()\n",
    "predictions = model.predict(X)\n",
    "ogdf[['Predicted X']]=predictions.to_frame()\n",
    "\n",
    "print_model = model.summary()\n",
    "print(print_model)"
   ]
  },
  {
   "cell_type": "code",
   "execution_count": 25,
   "metadata": {},
   "outputs": [],
   "source": [
    "ogdf.to_csv(\"/Users/emaad/Google Drive/Research/Graduate School/Ting Xu Rotation/Model Fits/Params Table - Copy Sig X with Predicted Parameters.csv\")"
   ]
  },
  {
   "cell_type": "code",
   "execution_count": null,
   "metadata": {},
   "outputs": [],
   "source": []
  }
 ],
 "metadata": {
  "kernelspec": {
   "display_name": "Python 3",
   "language": "python",
   "name": "python3"
  },
  "language_info": {
   "codemirror_mode": {
    "name": "ipython",
    "version": 3
   },
   "file_extension": ".py",
   "mimetype": "text/x-python",
   "name": "python",
   "nbconvert_exporter": "python",
   "pygments_lexer": "ipython3",
   "version": "3.7.4"
  }
 },
 "nbformat": 4,
 "nbformat_minor": 2
}
